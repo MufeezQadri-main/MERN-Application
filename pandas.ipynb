{
  "nbformat": 4,
  "nbformat_minor": 0,
  "metadata": {
    "colab": {
      "provenance": [],
      "toc_visible": true,
      "authorship_tag": "ABX9TyMKx8yY9EB6ynDUZDcVLJmA",
      "include_colab_link": true
    },
    "kernelspec": {
      "name": "python3",
      "display_name": "Python 3"
    },
    "language_info": {
      "name": "python"
    }
  },
  "cells": [
    {
      "cell_type": "markdown",
      "metadata": {
        "id": "view-in-github",
        "colab_type": "text"
      },
      "source": [
        "<a href=\"https://colab.research.google.com/github/MufeezQadri-main/MERN-Application/blob/main/pandas.ipynb\" target=\"_parent\"><img src=\"https://colab.research.google.com/assets/colab-badge.svg\" alt=\"Open In Colab\"/></a>"
      ]
    },
    {
      "cell_type": "code",
      "execution_count": null,
      "metadata": {
        "colab": {
          "base_uri": "https://localhost:8080/"
        },
        "id": "9GatSIeqE_l-",
        "outputId": "5e563cf5-521d-4c39-a6c6-55ff928fcdd0"
      },
      "outputs": [
        {
          "output_type": "stream",
          "name": "stdout",
          "text": [
            "    cars  passings\n",
            "0    BMW         3\n",
            "1  Volvo         7\n",
            "2   Ford         2\n"
          ]
        }
      ],
      "source": [
        "import pandas as pd\n",
        "mydataset = {\n",
        "    'cars': [\"BMW\", \"Volvo\", \"Ford\"],\n",
        "    'passings': [3, 7, 2]\n",
        "}\n",
        "myvar = pd.DataFrame(mydataset)\n",
        "print(myvar)\n"
      ]
    },
    {
      "cell_type": "code",
      "source": [
        "import pandas as pd\n",
        "a = [1, 7, 2]\n",
        "myvar = pd.Series(a)\n",
        "print(myvar)"
      ],
      "metadata": {
        "colab": {
          "base_uri": "https://localhost:8080/"
        },
        "id": "vZOp_MlFIIm2",
        "outputId": "4ae51178-f201-4f07-e701-e7e094f0c3be"
      },
      "execution_count": null,
      "outputs": [
        {
          "output_type": "stream",
          "name": "stdout",
          "text": [
            "0    1\n",
            "1    7\n",
            "2    2\n",
            "dtype: int64\n"
          ]
        }
      ]
    },
    {
      "cell_type": "code",
      "source": [
        "import pandas as pd\n",
        "a = [1, 7, 2]\n",
        "myvar = pd.Series(a, index = [\"x\", \"y\", \"z\"])\n",
        "print(myvar)\n"
      ],
      "metadata": {
        "colab": {
          "base_uri": "https://localhost:8080/"
        },
        "id": "C9FRD33oImBi",
        "outputId": "8760de16-6e15-4ef6-8560-90f34e43dcf4"
      },
      "execution_count": null,
      "outputs": [
        {
          "output_type": "stream",
          "name": "stdout",
          "text": [
            "x    1\n",
            "y    7\n",
            "z    2\n",
            "dtype: int64\n"
          ]
        }
      ]
    },
    {
      "cell_type": "code",
      "source": [
        "import pandas as pd\n",
        "calories = {\"day1\": 420, \"day2\": 380, \"day3\": 390}\n",
        "myvar = pd.Series(calories)\n",
        "print(myvar)"
      ],
      "metadata": {
        "colab": {
          "base_uri": "https://localhost:8080/"
        },
        "id": "Bvrm8t_HJ027",
        "outputId": "fb7a2a5c-89d2-4c03-be67-390fbe2ffd28"
      },
      "execution_count": null,
      "outputs": [
        {
          "output_type": "stream",
          "name": "stdout",
          "text": [
            "day1    420\n",
            "day2    380\n",
            "day3    390\n",
            "dtype: int64\n"
          ]
        }
      ]
    },
    {
      "cell_type": "code",
      "source": [
        "import pandas as pd\n",
        "calories = {\"day1\": 420, \"day2\": 380, \"day3\": 390}\n",
        "myvar = pd.Series(calories, index = [\"day1\", \"day2\"])\n",
        "print(myvar)"
      ],
      "metadata": {
        "colab": {
          "base_uri": "https://localhost:8080/"
        },
        "id": "-U5IEjeOKRCy",
        "outputId": "2f00e972-e137-4693-c05d-e17376001d2a"
      },
      "execution_count": null,
      "outputs": [
        {
          "output_type": "stream",
          "name": "stdout",
          "text": [
            "day1    420\n",
            "day2    380\n",
            "dtype: int64\n"
          ]
        }
      ]
    },
    {
      "cell_type": "code",
      "source": [
        "import pandas as pd\n",
        "df = pd.read_csv('/content/datafile.csv')\n",
        "print(df)"
      ],
      "metadata": {
        "colab": {
          "base_uri": "https://localhost:8080/"
        },
        "id": "M5y5V0-KLETM",
        "outputId": "a2ba877c-fbe1-4447-c39f-ea556577e21c"
      },
      "execution_count": 15,
      "outputs": [
        {
          "output_type": "stream",
          "name": "stdout",
          "text": [
            "       Year Industry_aggregation_NZSIOC Industry_code_NZSIOC  \\\n",
            "0      2023                     Level 1                99999   \n",
            "1      2023                     Level 1                99999   \n",
            "2      2023                     Level 1                99999   \n",
            "3      2023                     Level 1                99999   \n",
            "4      2023                     Level 1                99999   \n",
            "...     ...                         ...                  ...   \n",
            "50980  2013                     Level 3                 ZZ11   \n",
            "50981  2013                     Level 3                 ZZ11   \n",
            "50982  2013                     Level 3                 ZZ11   \n",
            "50983  2013                     Level 3                 ZZ11   \n",
            "50984  2013                     Level 3                 ZZ11   \n",
            "\n",
            "             Industry_name_NZSIOC               Units Variable_code  \\\n",
            "0                  All industries  Dollars (millions)           H01   \n",
            "1                  All industries  Dollars (millions)           H04   \n",
            "2                  All industries  Dollars (millions)           H05   \n",
            "3                  All industries  Dollars (millions)           H07   \n",
            "4                  All industries  Dollars (millions)           H08   \n",
            "...                           ...                 ...           ...   \n",
            "50980  Food product manufacturing          Percentage           H37   \n",
            "50981  Food product manufacturing          Percentage           H38   \n",
            "50982  Food product manufacturing          Percentage           H39   \n",
            "50983  Food product manufacturing          Percentage           H40   \n",
            "50984  Food product manufacturing          Percentage           H41   \n",
            "\n",
            "                                         Variable_name      Variable_category  \\\n",
            "0                                         Total income  Financial performance   \n",
            "1      Sales, government funding, grants and subsidies  Financial performance   \n",
            "2                    Interest, dividends and donations  Financial performance   \n",
            "3                                 Non-operating income  Financial performance   \n",
            "4                                    Total expenditure  Financial performance   \n",
            "...                                                ...                    ...   \n",
            "50980                                      Quick ratio       Financial ratios   \n",
            "50981              Margin on sales of goods for resale       Financial ratios   \n",
            "50982                                 Return on equity       Financial ratios   \n",
            "50983                           Return on total assets       Financial ratios   \n",
            "50984                            Liabilities structure       Financial ratios   \n",
            "\n",
            "        Value                             Industry_code_ANZSIC06  \n",
            "0      930995  ANZSIC06 divisions A-S (excluding classes K633...  \n",
            "1      821630  ANZSIC06 divisions A-S (excluding classes K633...  \n",
            "2       84354  ANZSIC06 divisions A-S (excluding classes K633...  \n",
            "3       25010  ANZSIC06 divisions A-S (excluding classes K633...  \n",
            "4      832964  ANZSIC06 divisions A-S (excluding classes K633...  \n",
            "...       ...                                                ...  \n",
            "50980      52  ANZSIC06 groups C111, C112, C113, C114, C115, ...  \n",
            "50981      40  ANZSIC06 groups C111, C112, C113, C114, C115, ...  \n",
            "50982      12  ANZSIC06 groups C111, C112, C113, C114, C115, ...  \n",
            "50983       5  ANZSIC06 groups C111, C112, C113, C114, C115, ...  \n",
            "50984      46  ANZSIC06 groups C111, C112, C113, C114, C115, ...  \n",
            "\n",
            "[50985 rows x 10 columns]\n"
          ]
        }
      ]
    }
  ]
}